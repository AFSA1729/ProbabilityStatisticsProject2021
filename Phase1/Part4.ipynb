{
 "cells": [
  {
   "cell_type": "code",
   "execution_count": 2,
   "outputs": [],
   "source": [
    "import numpy as np\n",
    "from sklearn.cluster import KMeans"
   ],
   "metadata": {
    "collapsed": false
   }
  },
  {
   "cell_type": "code",
   "execution_count": 3,
   "metadata": {
    "collapsed": true
   },
   "outputs": [
    {
     "name": "stdout",
     "output_type": "stream",
     "text": [
      "W result:  0.5\n",
      "A result:  0.6\n"
     ]
    },
    {
     "name": "stderr",
     "output_type": "stream",
     "text": [
      "D:\\university\\Term3\\ProbabilityStatistics\\ProbabilityStatisticsProject2023\\venv\\lib\\site-packages\\sklearn\\cluster\\_kmeans.py:870: FutureWarning: The default value of `n_init` will change from 10 to 'auto' in 1.4. Set the value of `n_init` explicitly to suppress the warning\n",
      "  warnings.warn(\n",
      "D:\\university\\Term3\\ProbabilityStatistics\\ProbabilityStatisticsProject2023\\venv\\lib\\site-packages\\sklearn\\cluster\\_kmeans.py:870: FutureWarning: The default value of `n_init` will change from 10 to 'auto' in 1.4. Set the value of `n_init` explicitly to suppress the warning\n",
      "  warnings.warn(\n"
     ]
    }
   ],
   "source": [
    "n = 10\n",
    "p = 0.1\n",
    "q = 0.01\n",
    "\n",
    "A = np.zeros((n, n))\n",
    "groups = [np.random.binomial(1, 1 / 2) for i in range(n)]\n",
    "for i in range(n):\n",
    "    for j in range(i, n):\n",
    "        if (groups[i] == groups[j]):\n",
    "            A[i, j] = np.random.binomial(1, p)\n",
    "        else:\n",
    "            A[i, j] = np.random.binomial(1, q)\n",
    "        A[j, i] = A[i, j]\n",
    "\n",
    "D_A = np.zeros((n, n))\n",
    "for i in range(n):\n",
    "    D_A[i, i] = np.sum(A[i], axis=0)\n",
    "\n",
    "L_A = D_A - A\n",
    "b, a = np.linalg.eig(L_A)\n",
    "\n",
    "W = np.zeros((n, n))\n",
    "for i in range(n):\n",
    "    for j in range(n):\n",
    "        if (groups[i] == groups[j]):\n",
    "            W[i, j] = p\n",
    "        else:\n",
    "            W[i, j] = q\n",
    "D_W = np.zeros((n, n))\n",
    "for i in range(n):\n",
    "    D_A[i, i] = np.sum(W[i], axis=0)\n",
    "\n",
    "L_W = D_W - A\n",
    "\n",
    "v, w = np.linalg.eig(L_W)\n",
    "\n",
    "w_copy = np.abs(w[:, 1])\n",
    "a_copy = np.abs(a[:, 1])\n",
    "\n",
    "w_copy_norm = w_copy / np.linalg.norm(w_copy)\n",
    "\n",
    "X = np.column_stack((w_copy_norm,))\n",
    "\n",
    "kmeans = KMeans(n_clusters=2)\n",
    "W = kmeans.fit_predict(X)\n",
    "\n",
    "a_copy = np.abs(a_copy)\n",
    "a_copy_norm = a_copy / np.linalg.norm(a_copy)\n",
    "\n",
    "X = np.column_stack((a_copy_norm,))\n",
    "A_labels = kmeans.fit_predict(X)\n",
    "\n",
    "print(\"W result: \", max(np.count_nonzero(w_copy == groups), np.count_nonzero(w_copy != groups)) / len(groups))\n",
    "print(\"A result: \", max(np.count_nonzero(A_labels == groups), np.count_nonzero(A_labels != groups)) / len(groups))"
   ]
  },
  {
   "cell_type": "code",
   "execution_count": 4,
   "outputs": [
    {
     "name": "stderr",
     "output_type": "stream",
     "text": [
      "D:\\university\\Term3\\ProbabilityStatistics\\ProbabilityStatisticsProject2023\\venv\\lib\\site-packages\\sklearn\\cluster\\_kmeans.py:870: FutureWarning: The default value of `n_init` will change from 10 to 'auto' in 1.4. Set the value of `n_init` explicitly to suppress the warning\n",
      "  warnings.warn(\n",
      "D:\\university\\Term3\\ProbabilityStatistics\\ProbabilityStatisticsProject2023\\venv\\lib\\site-packages\\sklearn\\cluster\\_kmeans.py:870: FutureWarning: The default value of `n_init` will change from 10 to 'auto' in 1.4. Set the value of `n_init` explicitly to suppress the warning\n",
      "  warnings.warn(\n",
      "D:\\university\\Term3\\ProbabilityStatistics\\ProbabilityStatisticsProject2023\\venv\\lib\\site-packages\\sklearn\\cluster\\_kmeans.py:870: FutureWarning: The default value of `n_init` will change from 10 to 'auto' in 1.4. Set the value of `n_init` explicitly to suppress the warning\n",
      "  warnings.warn(\n",
      "D:\\university\\Term3\\ProbabilityStatistics\\ProbabilityStatisticsProject2023\\venv\\lib\\site-packages\\sklearn\\cluster\\_kmeans.py:870: FutureWarning: The default value of `n_init` will change from 10 to 'auto' in 1.4. Set the value of `n_init` explicitly to suppress the warning\n",
      "  warnings.warn(\n",
      "D:\\university\\Term3\\ProbabilityStatistics\\ProbabilityStatisticsProject2023\\venv\\lib\\site-packages\\sklearn\\cluster\\_kmeans.py:870: FutureWarning: The default value of `n_init` will change from 10 to 'auto' in 1.4. Set the value of `n_init` explicitly to suppress the warning\n",
      "  warnings.warn(\n",
      "D:\\university\\Term3\\ProbabilityStatistics\\ProbabilityStatisticsProject2023\\venv\\lib\\site-packages\\sklearn\\cluster\\_kmeans.py:870: FutureWarning: The default value of `n_init` will change from 10 to 'auto' in 1.4. Set the value of `n_init` explicitly to suppress the warning\n",
      "  warnings.warn(\n"
     ]
    },
    {
     "name": "stdout",
     "output_type": "stream",
     "text": [
      "=======10======\n",
      "W result:  0.5\n",
      "A result:  0.5\n",
      "=======10======\n",
      "W result:  0.6\n",
      "A result:  0.6\n",
      "=======10======\n",
      "W result:  0.6\n",
      "A result:  0.6\n"
     ]
    },
    {
     "name": "stderr",
     "output_type": "stream",
     "text": [
      "D:\\university\\Term3\\ProbabilityStatistics\\ProbabilityStatisticsProject2023\\venv\\lib\\site-packages\\sklearn\\cluster\\_kmeans.py:870: FutureWarning: The default value of `n_init` will change from 10 to 'auto' in 1.4. Set the value of `n_init` explicitly to suppress the warning\n",
      "  warnings.warn(\n",
      "D:\\university\\Term3\\ProbabilityStatistics\\ProbabilityStatisticsProject2023\\venv\\lib\\site-packages\\sklearn\\cluster\\_kmeans.py:870: FutureWarning: The default value of `n_init` will change from 10 to 'auto' in 1.4. Set the value of `n_init` explicitly to suppress the warning\n",
      "  warnings.warn(\n",
      "D:\\university\\Term3\\ProbabilityStatistics\\ProbabilityStatisticsProject2023\\venv\\lib\\site-packages\\sklearn\\cluster\\_kmeans.py:870: FutureWarning: The default value of `n_init` will change from 10 to 'auto' in 1.4. Set the value of `n_init` explicitly to suppress the warning\n",
      "  warnings.warn(\n",
      "D:\\university\\Term3\\ProbabilityStatistics\\ProbabilityStatisticsProject2023\\venv\\lib\\site-packages\\sklearn\\cluster\\_kmeans.py:870: FutureWarning: The default value of `n_init` will change from 10 to 'auto' in 1.4. Set the value of `n_init` explicitly to suppress the warning\n",
      "  warnings.warn(\n"
     ]
    },
    {
     "name": "stdout",
     "output_type": "stream",
     "text": [
      "=======10======\n",
      "W result:  0.6\n",
      "A result:  0.6\n",
      "=======10======\n",
      "W result:  0.7\n",
      "A result:  0.7\n"
     ]
    },
    {
     "name": "stderr",
     "output_type": "stream",
     "text": [
      "D:\\university\\Term3\\ProbabilityStatistics\\ProbabilityStatisticsProject2023\\venv\\lib\\site-packages\\sklearn\\cluster\\_kmeans.py:870: FutureWarning: The default value of `n_init` will change from 10 to 'auto' in 1.4. Set the value of `n_init` explicitly to suppress the warning\n",
      "  warnings.warn(\n",
      "D:\\university\\Term3\\ProbabilityStatistics\\ProbabilityStatisticsProject2023\\venv\\lib\\site-packages\\sklearn\\cluster\\_kmeans.py:870: FutureWarning: The default value of `n_init` will change from 10 to 'auto' in 1.4. Set the value of `n_init` explicitly to suppress the warning\n",
      "  warnings.warn(\n",
      "D:\\university\\Term3\\ProbabilityStatistics\\ProbabilityStatisticsProject2023\\venv\\lib\\site-packages\\sklearn\\cluster\\_kmeans.py:870: FutureWarning: The default value of `n_init` will change from 10 to 'auto' in 1.4. Set the value of `n_init` explicitly to suppress the warning\n",
      "  warnings.warn(\n",
      "D:\\university\\Term3\\ProbabilityStatistics\\ProbabilityStatisticsProject2023\\venv\\lib\\site-packages\\sklearn\\cluster\\_kmeans.py:870: FutureWarning: The default value of `n_init` will change from 10 to 'auto' in 1.4. Set the value of `n_init` explicitly to suppress the warning\n",
      "  warnings.warn(\n"
     ]
    },
    {
     "name": "stdout",
     "output_type": "stream",
     "text": [
      "=======10======\n",
      "W result:  0.7\n",
      "A result:  0.7\n",
      "=======10======\n",
      "W result:  0.6\n",
      "A result:  0.6\n"
     ]
    },
    {
     "name": "stderr",
     "output_type": "stream",
     "text": [
      "D:\\university\\Term3\\ProbabilityStatistics\\ProbabilityStatisticsProject2023\\venv\\lib\\site-packages\\sklearn\\cluster\\_kmeans.py:870: FutureWarning: The default value of `n_init` will change from 10 to 'auto' in 1.4. Set the value of `n_init` explicitly to suppress the warning\n",
      "  warnings.warn(\n",
      "D:\\university\\Term3\\ProbabilityStatistics\\ProbabilityStatisticsProject2023\\venv\\lib\\site-packages\\sklearn\\cluster\\_kmeans.py:870: FutureWarning: The default value of `n_init` will change from 10 to 'auto' in 1.4. Set the value of `n_init` explicitly to suppress the warning\n",
      "  warnings.warn(\n",
      "D:\\university\\Term3\\ProbabilityStatistics\\ProbabilityStatisticsProject2023\\venv\\lib\\site-packages\\sklearn\\cluster\\_kmeans.py:870: FutureWarning: The default value of `n_init` will change from 10 to 'auto' in 1.4. Set the value of `n_init` explicitly to suppress the warning\n",
      "  warnings.warn(\n",
      "D:\\university\\Term3\\ProbabilityStatistics\\ProbabilityStatisticsProject2023\\venv\\lib\\site-packages\\sklearn\\cluster\\_kmeans.py:870: FutureWarning: The default value of `n_init` will change from 10 to 'auto' in 1.4. Set the value of `n_init` explicitly to suppress the warning\n",
      "  warnings.warn(\n"
     ]
    },
    {
     "name": "stdout",
     "output_type": "stream",
     "text": [
      "=======10======\n",
      "W result:  0.6\n",
      "A result:  0.6\n",
      "=======10======\n",
      "W result:  0.5\n",
      "A result:  0.5\n"
     ]
    },
    {
     "name": "stderr",
     "output_type": "stream",
     "text": [
      "D:\\university\\Term3\\ProbabilityStatistics\\ProbabilityStatisticsProject2023\\venv\\lib\\site-packages\\sklearn\\cluster\\_kmeans.py:870: FutureWarning: The default value of `n_init` will change from 10 to 'auto' in 1.4. Set the value of `n_init` explicitly to suppress the warning\n",
      "  warnings.warn(\n",
      "D:\\university\\Term3\\ProbabilityStatistics\\ProbabilityStatisticsProject2023\\venv\\lib\\site-packages\\sklearn\\cluster\\_kmeans.py:870: FutureWarning: The default value of `n_init` will change from 10 to 'auto' in 1.4. Set the value of `n_init` explicitly to suppress the warning\n",
      "  warnings.warn(\n",
      "D:\\university\\Term3\\ProbabilityStatistics\\ProbabilityStatisticsProject2023\\venv\\lib\\site-packages\\sklearn\\cluster\\_kmeans.py:870: FutureWarning: The default value of `n_init` will change from 10 to 'auto' in 1.4. Set the value of `n_init` explicitly to suppress the warning\n",
      "  warnings.warn(\n",
      "D:\\university\\Term3\\ProbabilityStatistics\\ProbabilityStatisticsProject2023\\venv\\lib\\site-packages\\sklearn\\cluster\\_kmeans.py:870: FutureWarning: The default value of `n_init` will change from 10 to 'auto' in 1.4. Set the value of `n_init` explicitly to suppress the warning\n",
      "  warnings.warn(\n"
     ]
    },
    {
     "name": "stdout",
     "output_type": "stream",
     "text": [
      "=======10======\n",
      "W result:  0.6\n",
      "A result:  0.6\n"
     ]
    }
   ],
   "source": [
    "n = 10\n",
    "p = 0.1\n",
    "q = 0.01\n",
    "\n",
    "A = np.zeros((n, n))\n",
    "groups = [np.random.binomial(1, 1 / 2) for i in range(n)]\n",
    "for i in range(n):\n",
    "    for j in range(i, n):\n",
    "        if (groups[i] == groups[j]):\n",
    "            A[i, j] = np.random.binomial(1, p)\n",
    "        else:\n",
    "            A[i, j] = np.random.binomial(1, q)\n",
    "        A[j, i] = A[i, j]\n",
    "\n",
    "D_A = np.zeros((n, n))\n",
    "for i in range(n):\n",
    "    D_A[i, i] = np.sum(A[i], axis=0)\n",
    "\n",
    "L_A = D_A - A\n",
    "b, a = np.linalg.eig(L_A)\n",
    "\n",
    "W = np.zeros((n, n))\n",
    "for i in range(n):\n",
    "    for j in range(n):\n",
    "        if (groups[i] == groups[j]):\n",
    "            W[i, j] = p\n",
    "        else:\n",
    "            W[i, j] = q\n",
    "D_W = np.zeros((n, n))\n",
    "for i in range(n):\n",
    "    D_A[i, i] = np.sum(W[i], axis=0)\n",
    "\n",
    "L_W = D_W - A\n",
    "\n",
    "v, w = np.linalg.eig(L_W)\n",
    "\n",
    "w_copy = np.abs(w[:, 1])\n",
    "a_copy = np.abs(a[:, 1])\n",
    "\n",
    "w_copy_norm = w_copy / np.linalg.norm(w_copy)\n",
    "\n",
    "X = np.column_stack((w_copy_norm,))\n",
    "\n",
    "kmeans = KMeans(n_clusters=2)\n",
    "W = kmeans.fit_predict(X)\n",
    "\n",
    "a_copy = np.abs(a_copy)\n",
    "a_copy_norm = a_copy / np.linalg.norm(a_copy)\n",
    "\n",
    "X = np.column_stack((a_copy_norm,))\n",
    "A_labels = kmeans.fit_predict(X)\n",
    "\n",
    "for i in range(100, 2000, 200):\n",
    "    groups = [np.random.binomial(1, 0.5) for i in range(n)]\n",
    "    A = np.zeros((n, n))\n",
    "    groups = [np.random.binomial(1, 1 / 2) for i in range(n)]\n",
    "    for i in range(n):\n",
    "        for j in range(i, n):\n",
    "            if (groups[i] == groups[j]):\n",
    "                A[i, j] = np.random.binomial(1, p)\n",
    "            else:\n",
    "                A[i, j] = np.random.binomial(1, q)\n",
    "            A[j, i] = A[i, j]\n",
    "\n",
    "    D_A = np.zeros((n, n))\n",
    "    for i in range(n):\n",
    "        D_A[i, i] = np.sum(A[i], axis=0)\n",
    "\n",
    "    L_A = D_A - A\n",
    "    b, a = np.linalg.eig(L_A)\n",
    "\n",
    "    W = np.zeros((n, n))\n",
    "    for i in range(n):\n",
    "        for j in range(n):\n",
    "            if (groups[i] == groups[j]):\n",
    "                W[i, j] = p\n",
    "            else:\n",
    "                W[i, j] = q\n",
    "    D_W = np.zeros((n, n))\n",
    "    for i in range(n):\n",
    "        D_A[i, i] = np.sum(W[i], axis=0)\n",
    "\n",
    "    L_W = D_W - A\n",
    "\n",
    "    v, w = np.linalg.eig(L_W)\n",
    "\n",
    "    w_copy = np.abs(w[:, 1])\n",
    "    a_copy = np.abs(a[:, 1])\n",
    "\n",
    "    w_copy = np.abs(w[:, 1])\n",
    "    a_copy = np.abs(a[:, 1])\n",
    "    w_copy_norm = w_copy / np.linalg.norm(w_copy)\n",
    "    a_copy_norm = a_copy / np.linalg.norm(a_copy)\n",
    "\n",
    "    X = np.column_stack((w_copy_norm,))\n",
    "    X = np.column_stack((a_copy_norm,))\n",
    "\n",
    "    kmeans = KMeans(n_clusters=2)\n",
    "    W_labels = kmeans.fit_predict(X)\n",
    "\n",
    "    A_labels = kmeans.fit_predict(X)\n",
    "    print(f'======={n}======')\n",
    "    print(\"W result: \", max(np.count_nonzero(W_labels == groups), np.count_nonzero(W_labels != groups)) / len(groups))\n",
    "    print(\"A result: \", max(np.count_nonzero(A_labels == groups), np.count_nonzero(A_labels != groups)) / len(groups))"
   ],
   "metadata": {
    "collapsed": false
   }
  }
 ],
 "metadata": {
  "kernelspec": {
   "display_name": "Python 3",
   "language": "python",
   "name": "python3"
  },
  "language_info": {
   "codemirror_mode": {
    "name": "ipython",
    "version": 2
   },
   "file_extension": ".py",
   "mimetype": "text/x-python",
   "name": "python",
   "nbconvert_exporter": "python",
   "pygments_lexer": "ipython2",
   "version": "2.7.6"
  }
 },
 "nbformat": 4,
 "nbformat_minor": 0
}
