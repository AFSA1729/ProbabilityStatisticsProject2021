{
 "cells": [
  {
   "cell_type": "code",
   "execution_count": 47,
   "metadata": {
    "collapsed": false
   },
   "outputs": [],
   "source": [
    "import math\n",
    "import numpy as np\n",
    "import pandas as pd\n",
    "from scipy.stats import bernoulli\n",
    "import itertools\n",
    "import networkx as nx"
   ]
  },
  {
   "cell_type": "code",
   "execution_count": 44,
   "outputs": [
    {
     "data": {
      "text/plain": "    0   1   2   3   4   5   6   7   8   9   10  11  12  13  14\n0    1   0   0   0   0   0   0   0   0   1   0   0   0   0   1\n1    0   1   0   1   1   1   0   0   1   0   1   0   0   1   0\n2    0   0   1   1   0   0   1   1   1   0   0   1   0   0   0\n3    0   1   1   1   0   0   0   0   0   0   0   0   0   0   0\n4    0   1   0   0   1   0   0   0   1   0   0   0   0   0   1\n5    0   1   0   0   0   1   0   0   0   0   0   0   1   1   0\n6    0   0   1   0   0   0   1   1   1   0   1   1   0   0   1\n7    0   0   1   0   0   0   1   1   1   0   0   0   0   0   1\n8    0   1   1   0   1   0   1   1   1   0   0   0   0   0   0\n9    1   0   0   0   0   0   0   0   0   1   1   0   1   0   1\n10   0   1   0   0   0   0   1   0   0   1   1   0   1   0   1\n11   0   0   1   0   0   0   1   0   0   0   0   1   0   1   0\n12   0   0   0   0   0   1   0   0   0   1   1   0   1   0   0\n13   0   1   0   0   0   1   0   0   0   0   0   1   0   1   0\n14   1   0   0   0   1   0   1   1   0   1   1   0   0   0   1",
      "text/html": "<div>\n<style scoped>\n    .dataframe tbody tr th:only-of-type {\n        vertical-align: middle;\n    }\n\n    .dataframe tbody tr th {\n        vertical-align: top;\n    }\n\n    .dataframe thead th {\n        text-align: right;\n    }\n</style>\n<table border=\"1\" class=\"dataframe\">\n  <thead>\n    <tr style=\"text-align: right;\">\n      <th></th>\n      <th>0</th>\n      <th>1</th>\n      <th>2</th>\n      <th>3</th>\n      <th>4</th>\n      <th>5</th>\n      <th>6</th>\n      <th>7</th>\n      <th>8</th>\n      <th>9</th>\n      <th>10</th>\n      <th>11</th>\n      <th>12</th>\n      <th>13</th>\n      <th>14</th>\n    </tr>\n  </thead>\n  <tbody>\n    <tr>\n      <th>0</th>\n      <td>1</td>\n      <td>0</td>\n      <td>0</td>\n      <td>0</td>\n      <td>0</td>\n      <td>0</td>\n      <td>0</td>\n      <td>0</td>\n      <td>0</td>\n      <td>1</td>\n      <td>0</td>\n      <td>0</td>\n      <td>0</td>\n      <td>0</td>\n      <td>1</td>\n    </tr>\n    <tr>\n      <th>1</th>\n      <td>0</td>\n      <td>1</td>\n      <td>0</td>\n      <td>1</td>\n      <td>1</td>\n      <td>1</td>\n      <td>0</td>\n      <td>0</td>\n      <td>1</td>\n      <td>0</td>\n      <td>1</td>\n      <td>0</td>\n      <td>0</td>\n      <td>1</td>\n      <td>0</td>\n    </tr>\n    <tr>\n      <th>2</th>\n      <td>0</td>\n      <td>0</td>\n      <td>1</td>\n      <td>1</td>\n      <td>0</td>\n      <td>0</td>\n      <td>1</td>\n      <td>1</td>\n      <td>1</td>\n      <td>0</td>\n      <td>0</td>\n      <td>1</td>\n      <td>0</td>\n      <td>0</td>\n      <td>0</td>\n    </tr>\n    <tr>\n      <th>3</th>\n      <td>0</td>\n      <td>1</td>\n      <td>1</td>\n      <td>1</td>\n      <td>0</td>\n      <td>0</td>\n      <td>0</td>\n      <td>0</td>\n      <td>0</td>\n      <td>0</td>\n      <td>0</td>\n      <td>0</td>\n      <td>0</td>\n      <td>0</td>\n      <td>0</td>\n    </tr>\n    <tr>\n      <th>4</th>\n      <td>0</td>\n      <td>1</td>\n      <td>0</td>\n      <td>0</td>\n      <td>1</td>\n      <td>0</td>\n      <td>0</td>\n      <td>0</td>\n      <td>1</td>\n      <td>0</td>\n      <td>0</td>\n      <td>0</td>\n      <td>0</td>\n      <td>0</td>\n      <td>1</td>\n    </tr>\n    <tr>\n      <th>5</th>\n      <td>0</td>\n      <td>1</td>\n      <td>0</td>\n      <td>0</td>\n      <td>0</td>\n      <td>1</td>\n      <td>0</td>\n      <td>0</td>\n      <td>0</td>\n      <td>0</td>\n      <td>0</td>\n      <td>0</td>\n      <td>1</td>\n      <td>1</td>\n      <td>0</td>\n    </tr>\n    <tr>\n      <th>6</th>\n      <td>0</td>\n      <td>0</td>\n      <td>1</td>\n      <td>0</td>\n      <td>0</td>\n      <td>0</td>\n      <td>1</td>\n      <td>1</td>\n      <td>1</td>\n      <td>0</td>\n      <td>1</td>\n      <td>1</td>\n      <td>0</td>\n      <td>0</td>\n      <td>1</td>\n    </tr>\n    <tr>\n      <th>7</th>\n      <td>0</td>\n      <td>0</td>\n      <td>1</td>\n      <td>0</td>\n      <td>0</td>\n      <td>0</td>\n      <td>1</td>\n      <td>1</td>\n      <td>1</td>\n      <td>0</td>\n      <td>0</td>\n      <td>0</td>\n      <td>0</td>\n      <td>0</td>\n      <td>1</td>\n    </tr>\n    <tr>\n      <th>8</th>\n      <td>0</td>\n      <td>1</td>\n      <td>1</td>\n      <td>0</td>\n      <td>1</td>\n      <td>0</td>\n      <td>1</td>\n      <td>1</td>\n      <td>1</td>\n      <td>0</td>\n      <td>0</td>\n      <td>0</td>\n      <td>0</td>\n      <td>0</td>\n      <td>0</td>\n    </tr>\n    <tr>\n      <th>9</th>\n      <td>1</td>\n      <td>0</td>\n      <td>0</td>\n      <td>0</td>\n      <td>0</td>\n      <td>0</td>\n      <td>0</td>\n      <td>0</td>\n      <td>0</td>\n      <td>1</td>\n      <td>1</td>\n      <td>0</td>\n      <td>1</td>\n      <td>0</td>\n      <td>1</td>\n    </tr>\n    <tr>\n      <th>10</th>\n      <td>0</td>\n      <td>1</td>\n      <td>0</td>\n      <td>0</td>\n      <td>0</td>\n      <td>0</td>\n      <td>1</td>\n      <td>0</td>\n      <td>0</td>\n      <td>1</td>\n      <td>1</td>\n      <td>0</td>\n      <td>1</td>\n      <td>0</td>\n      <td>1</td>\n    </tr>\n    <tr>\n      <th>11</th>\n      <td>0</td>\n      <td>0</td>\n      <td>1</td>\n      <td>0</td>\n      <td>0</td>\n      <td>0</td>\n      <td>1</td>\n      <td>0</td>\n      <td>0</td>\n      <td>0</td>\n      <td>0</td>\n      <td>1</td>\n      <td>0</td>\n      <td>1</td>\n      <td>0</td>\n    </tr>\n    <tr>\n      <th>12</th>\n      <td>0</td>\n      <td>0</td>\n      <td>0</td>\n      <td>0</td>\n      <td>0</td>\n      <td>1</td>\n      <td>0</td>\n      <td>0</td>\n      <td>0</td>\n      <td>1</td>\n      <td>1</td>\n      <td>0</td>\n      <td>1</td>\n      <td>0</td>\n      <td>0</td>\n    </tr>\n    <tr>\n      <th>13</th>\n      <td>0</td>\n      <td>1</td>\n      <td>0</td>\n      <td>0</td>\n      <td>0</td>\n      <td>1</td>\n      <td>0</td>\n      <td>0</td>\n      <td>0</td>\n      <td>0</td>\n      <td>0</td>\n      <td>1</td>\n      <td>0</td>\n      <td>1</td>\n      <td>0</td>\n    </tr>\n    <tr>\n      <th>14</th>\n      <td>1</td>\n      <td>0</td>\n      <td>0</td>\n      <td>0</td>\n      <td>1</td>\n      <td>0</td>\n      <td>1</td>\n      <td>1</td>\n      <td>0</td>\n      <td>1</td>\n      <td>1</td>\n      <td>0</td>\n      <td>0</td>\n      <td>0</td>\n      <td>1</td>\n    </tr>\n  </tbody>\n</table>\n</div>"
     },
     "execution_count": 44,
     "metadata": {},
     "output_type": "execute_result"
    }
   ],
   "source": [
    "z0 = [3, 1, 2, 1, 3, 1, 2, 2, 2, 3, 3, 2, 1, 1, 3]\n",
    "p = 0.6\n",
    "q = 0.1\n",
    "n = 15\n",
    "k = 3\n",
    "\n",
    "\n",
    "def sample_maker(p, q, z0):\n",
    "    A = [[0] * n for i in range(n)]\n",
    "    for i in range(0, n):\n",
    "        A[i][i] = 1\n",
    "        for j in range(0, i):\n",
    "            if z0[i] == z0[j]:\n",
    "                A[i][j] = np.random.binomial(1, p, size=1)[0]\n",
    "                #bernoulli.rvs(p, size=1)\n",
    "            else:\n",
    "                A[i][j] = np.random.binomial(1, q, size=1)[0]\n",
    "            A[j][i] = A[i][j]\n",
    "    return A\n",
    "\n",
    "\n",
    "A = [0] * 10\n",
    "for i in range(10):\n",
    "    A[i] = sample_maker(p, q, z0)\n",
    "\n",
    "# print(A[0])\n",
    "df = pd.DataFrame(A[0])\n",
    "df\n"
   ],
   "metadata": {
    "collapsed": false
   }
  },
  {
   "cell_type": "code",
   "execution_count": 28,
   "outputs": [
    {
     "data": {
      "text/plain": "<Figure size 640x480 with 1 Axes>",
      "image/png": "[encoded data removed]"
     },
     "metadata": {},
     "output_type": "display_data"
    }
   ],
   "source": [
    "G = nx.Graph()\n",
    "G.add_nodes_from([i for i in range(0, n)])\n",
    "\n",
    "for i in range(0, n):\n",
    "    for j in range(0, i - 1):\n",
    "        if A[0][j][i] == 1:\n",
    "            G.add_edge(i, j)\n",
    "color_map = []\n",
    "for node in G:\n",
    "    if z0[node] == 1:\n",
    "        color_map.append(\"red\")\n",
    "    elif z0[node] == 2:\n",
    "        color_map.append(\"blue\")\n",
    "    else:\n",
    "        color_map.append(\"green\")\n",
    "nx.draw(G, with_labels=True, font_weight='bold', node_color=color_map)\n"
   ],
   "metadata": {
    "collapsed": false
   }
  },
  {
   "cell_type": "code",
   "execution_count": 29,
   "metadata": {
    "collapsed": true
   },
   "outputs": [
    {
     "data": {
      "text/plain": "9"
     },
     "execution_count": 29,
     "metadata": {},
     "output_type": "execute_result"
    }
   ],
   "source": [
    "a = [1, 1, 1, 2, 3, 3, 2, 3, 2]\n",
    "b = [1, 1, 3, 2, 3, 1, 2, 3, 2]\n",
    "x = len(a)\n",
    "x"
   ]
  },
  {
   "cell_type": "code",
   "execution_count": 30,
   "metadata": {
    "collapsed": false
   },
   "outputs": [
    {
     "data": {
      "text/plain": "2"
     },
     "execution_count": 30,
     "metadata": {},
     "output_type": "execute_result"
    }
   ],
   "source": [
    "def hamming(z1, z2):\n",
    "    ans = 0\n",
    "    n = len(z1)\n",
    "    for i in range(0, n):\n",
    "        if z1[i] != z2[i]:\n",
    "            ans += 1\n",
    "    return ans\n",
    "\n",
    "\n",
    "hamming(a, b)"
   ]
  },
  {
   "cell_type": "code",
   "execution_count": 31,
   "metadata": {
    "collapsed": false
   },
   "outputs": [
    {
     "name": "stdout",
     "output_type": "stream",
     "text": [
      "[1, 1, 3, 2, 3, 1, 2, 3, 2]\n",
      "[1, 1, 2, 3, 2, 1, 3, 2, 3]\n",
      "[2, 2, 3, 1, 3, 2, 1, 3, 1]\n",
      "[2, 2, 1, 3, 1, 2, 3, 1, 3]\n",
      "[3, 3, 2, 1, 2, 3, 1, 2, 1]\n",
      "[3, 3, 1, 2, 1, 3, 2, 1, 2]\n"
     ]
    },
    {
     "data": {
      "text/plain": "2"
     },
     "execution_count": 31,
     "metadata": {},
     "output_type": "execute_result"
    }
   ],
   "source": [
    "def min_hamming(z1, z2):\n",
    "    z1_values = list(pd.Series(z1).value_counts().index)\n",
    "    permutations = list(itertools.permutations(z1_values))\n",
    "    min = 1000000000\n",
    "    for i in range(0, len(permutations)):\n",
    "        tmp = [0] * len(z2)\n",
    "        for j in range(0, len(z2)):\n",
    "            tmp[j] = permutations[i][z2[j] - 1]\n",
    "        print(tmp)\n",
    "        if min > hamming(tmp, z1):\n",
    "            min = hamming(tmp, z1)\n",
    "    return min\n",
    "\n",
    "\n",
    "min_hamming(a, b)"
   ]
  },
  {
   "cell_type": "code",
   "execution_count": 48,
   "outputs": [],
   "source": [
    "def mle(z, p, q, A):\n",
    "    # a: same cluster connected (prob = p)\n",
    "    # b: same cluster not connected (prob = 1-p)\n",
    "    # c: different cluster connected (prob = q)\n",
    "    # d: different cluster connected (prob = 1-q)\n",
    "    a, b, c, d = 0\n",
    "    for i in range(0, len(z)):\n",
    "        for j in range(0, i):\n",
    "            if z[i] == z[j]:\n",
    "                a += A[i][j]\n",
    "                b += 1 - A[i][j]\n",
    "            else:\n",
    "                c += A[i][j]\n",
    "                d += 1 - A[i][j]\n",
    "    return (p ^ a) * ((1 - p) ^ b) * (q ^ c) * ((1 - q) ^ d)\n",
    "\n",
    "\n",
    "def log_mle(z, p, q, A):\n",
    "    # a, b, c, d = 0\n",
    "    # for i in range(0, len(z)):\n",
    "    #     for j in range(0, i):\n",
    "    #         if z[i] == z[j]:\n",
    "    #             a += A[i][j]\n",
    "    #             b += 1 - A[i][j]\n",
    "    #         else:\n",
    "    #             c += A[i][j]\n",
    "    #             d += 1 - A[i][j]\n",
    "    # return a * math.log(p) + b * math.log(1 - p) + c * math.log(q) + d * math.log(1 - q)\n",
    "    return math.log(mle(z, p, q, A))\n",
    "\n",
    "\n",
    "def log_mle_hat(z, p, q, A):\n",
    "    return -log_mle(z, p, q, A)\n",
    "\n",
    "\n",
    "\n"
   ],
   "metadata": {
    "collapsed": false
   }
  },
  {
   "cell_type": "code",
   "execution_count": 40,
   "outputs": [
    {
     "data": {
      "text/plain": "2"
     },
     "execution_count": 40,
     "metadata": {},
     "output_type": "execute_result"
    }
   ],
   "source": [
    "x = np.array([0] * 9).reshape(3, 3)\n",
    "x = [[0] * 2 for row in range(2)]\n",
    "x\n",
    "len(x)"
   ],
   "metadata": {
    "collapsed": false
   }
  },
  {
   "cell_type": "code",
   "execution_count": null,
   "outputs": [],
   "source": [],
   "metadata": {
    "collapsed": false
   }
  }
 ],
 "metadata": {
  "kernelspec": {
   "display_name": "Python 3",
   "language": "python",
   "name": "python3"
  },
  "language_info": {
   "codemirror_mode": {
    "name": "ipython",
    "version": 3
   },
   "file_extension": ".py",
   "mimetype": "text/x-python",
   "name": "python",
   "nbconvert_exporter": "python",
   "pygments_lexer": "ipython3",
   "version": "3.10.9 (tags/v3.10.9:1dd9be6, Dec  6 2022, 20:01:21) [MSC v.1934 64 bit (AMD64)]"
  },
  "vscode": {
   "interpreter": {
    "hash": "66f804da07f0f556d77bc3269dc5bb19edf020422864031af2885e5ff55f9079"
   }
  }
 },
 "nbformat": 4,
 "nbformat_minor": 0
}
