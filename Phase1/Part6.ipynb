{
 "cells": [
  {
   "cell_type": "code",
   "execution_count": 1,
   "metadata": {
    "collapsed": true
   },
   "outputs": [],
   "source": [
    "import math\n",
    "import networkx\n",
    "import numpy"
   ]
  },
  {
   "cell_type": "code",
   "execution_count": 4,
   "outputs": [
    {
     "ename": "ValueError",
     "evalue": "setting an array element with a sequence. The requested array has an inhomogeneous shape after 1 dimensions. The detected shape was (1123,) + inhomogeneous part.",
     "output_type": "error",
     "traceback": [
      "\u001B[1;31m---------------------------------------------------------------------------\u001B[0m",
      "\u001B[1;31mValueError\u001B[0m                                Traceback (most recent call last)",
      "Cell \u001B[1;32mIn[4], line 84\u001B[0m\n\u001B[0;32m     80\u001B[0m     d1 \u001B[38;5;241m=\u001B[39m mat[numpy\u001B[38;5;241m.\u001B[39margmin(mat)]\n\u001B[0;32m     81\u001B[0m     check_and_merge(mat\u001B[38;5;241m=\u001B[39mmat)\n\u001B[1;32m---> 84\u001B[0m \u001B[43mcheck_and_merge\u001B[49m\u001B[43m(\u001B[49m\u001B[43m)\u001B[49m\n",
      "Cell \u001B[1;32mIn[4], line 80\u001B[0m, in \u001B[0;36mcheck_and_merge\u001B[1;34m(graph, mat, n)\u001B[0m\n\u001B[0;32m     78\u001B[0m \u001B[38;5;28;01mif\u001B[39;00m \u001B[38;5;28mlen\u001B[39m(mat) \u001B[38;5;241m==\u001B[39m \u001B[38;5;241m0\u001B[39m:\n\u001B[0;32m     79\u001B[0m     \u001B[38;5;28;01mreturn\u001B[39;00m\n\u001B[1;32m---> 80\u001B[0m d1 \u001B[38;5;241m=\u001B[39m mat[\u001B[43mnumpy\u001B[49m\u001B[38;5;241;43m.\u001B[39;49m\u001B[43margmin\u001B[49m\u001B[43m(\u001B[49m\u001B[43mmat\u001B[49m\u001B[43m)\u001B[49m]\n\u001B[0;32m     81\u001B[0m check_and_merge(mat\u001B[38;5;241m=\u001B[39mmat)\n",
      "File \u001B[1;32m<__array_function__ internals>:200\u001B[0m, in \u001B[0;36margmin\u001B[1;34m(*args, **kwargs)\u001B[0m\n",
      "File \u001B[1;32mD:\\university\\Term3\\ProbabilityStatistics\\ProbabilityStatisticsProject2023\\venv\\lib\\site-packages\\numpy\\core\\fromnumeric.py:1338\u001B[0m, in \u001B[0;36margmin\u001B[1;34m(a, axis, out, keepdims)\u001B[0m\n\u001B[0;32m   1251\u001B[0m \u001B[38;5;250m\u001B[39m\u001B[38;5;124;03m\"\"\"\u001B[39;00m\n\u001B[0;32m   1252\u001B[0m \u001B[38;5;124;03mReturns the indices of the minimum values along an axis.\u001B[39;00m\n\u001B[0;32m   1253\u001B[0m \n\u001B[1;32m   (...)\u001B[0m\n\u001B[0;32m   1335\u001B[0m \u001B[38;5;124;03m(2, 1, 4)\u001B[39;00m\n\u001B[0;32m   1336\u001B[0m \u001B[38;5;124;03m\"\"\"\u001B[39;00m\n\u001B[0;32m   1337\u001B[0m kwds \u001B[38;5;241m=\u001B[39m {\u001B[38;5;124m'\u001B[39m\u001B[38;5;124mkeepdims\u001B[39m\u001B[38;5;124m'\u001B[39m: keepdims} \u001B[38;5;28;01mif\u001B[39;00m keepdims \u001B[38;5;129;01mis\u001B[39;00m \u001B[38;5;129;01mnot\u001B[39;00m np\u001B[38;5;241m.\u001B[39m_NoValue \u001B[38;5;28;01melse\u001B[39;00m {}\n\u001B[1;32m-> 1338\u001B[0m \u001B[38;5;28;01mreturn\u001B[39;00m _wrapfunc(a, \u001B[38;5;124m'\u001B[39m\u001B[38;5;124margmin\u001B[39m\u001B[38;5;124m'\u001B[39m, axis\u001B[38;5;241m=\u001B[39maxis, out\u001B[38;5;241m=\u001B[39mout, \u001B[38;5;241m*\u001B[39m\u001B[38;5;241m*\u001B[39mkwds)\n",
      "File \u001B[1;32mD:\\university\\Term3\\ProbabilityStatistics\\ProbabilityStatisticsProject2023\\venv\\lib\\site-packages\\numpy\\core\\fromnumeric.py:54\u001B[0m, in \u001B[0;36m_wrapfunc\u001B[1;34m(obj, method, *args, **kwds)\u001B[0m\n\u001B[0;32m     52\u001B[0m bound \u001B[38;5;241m=\u001B[39m \u001B[38;5;28mgetattr\u001B[39m(obj, method, \u001B[38;5;28;01mNone\u001B[39;00m)\n\u001B[0;32m     53\u001B[0m \u001B[38;5;28;01mif\u001B[39;00m bound \u001B[38;5;129;01mis\u001B[39;00m \u001B[38;5;28;01mNone\u001B[39;00m:\n\u001B[1;32m---> 54\u001B[0m     \u001B[38;5;28;01mreturn\u001B[39;00m _wrapit(obj, method, \u001B[38;5;241m*\u001B[39margs, \u001B[38;5;241m*\u001B[39m\u001B[38;5;241m*\u001B[39mkwds)\n\u001B[0;32m     56\u001B[0m \u001B[38;5;28;01mtry\u001B[39;00m:\n\u001B[0;32m     57\u001B[0m     \u001B[38;5;28;01mreturn\u001B[39;00m bound(\u001B[38;5;241m*\u001B[39margs, \u001B[38;5;241m*\u001B[39m\u001B[38;5;241m*\u001B[39mkwds)\n",
      "File \u001B[1;32mD:\\university\\Term3\\ProbabilityStatistics\\ProbabilityStatisticsProject2023\\venv\\lib\\site-packages\\numpy\\core\\fromnumeric.py:43\u001B[0m, in \u001B[0;36m_wrapit\u001B[1;34m(obj, method, *args, **kwds)\u001B[0m\n\u001B[0;32m     41\u001B[0m \u001B[38;5;28;01mexcept\u001B[39;00m \u001B[38;5;167;01mAttributeError\u001B[39;00m:\n\u001B[0;32m     42\u001B[0m     wrap \u001B[38;5;241m=\u001B[39m \u001B[38;5;28;01mNone\u001B[39;00m\n\u001B[1;32m---> 43\u001B[0m result \u001B[38;5;241m=\u001B[39m \u001B[38;5;28mgetattr\u001B[39m(\u001B[43masarray\u001B[49m\u001B[43m(\u001B[49m\u001B[43mobj\u001B[49m\u001B[43m)\u001B[49m, method)(\u001B[38;5;241m*\u001B[39margs, \u001B[38;5;241m*\u001B[39m\u001B[38;5;241m*\u001B[39mkwds)\n\u001B[0;32m     44\u001B[0m \u001B[38;5;28;01mif\u001B[39;00m wrap:\n\u001B[0;32m     45\u001B[0m     \u001B[38;5;28;01mif\u001B[39;00m \u001B[38;5;129;01mnot\u001B[39;00m \u001B[38;5;28misinstance\u001B[39m(result, mu\u001B[38;5;241m.\u001B[39mndarray):\n",
      "\u001B[1;31mValueError\u001B[0m: setting an array element with a sequence. The requested array has an inhomogeneous shape after 1 dimensions. The detected shape was (1123,) + inhomogeneous part."
     ]
    }
   ],
   "source": [
    "data_graph = networkx.karate_club_graph()\n",
    "t = 2\n",
    "\n",
    "\n",
    "def get_adj_mat(graph=data_graph):\n",
    "    adj_matrix = numpy.zeros((len(graph.nodes), len(graph.nodes)))\n",
    "    for edge in data_graph.edges:\n",
    "        row = edge[0]\n",
    "        col = edge[1]\n",
    "        adj_matrix[row - 1][col - 1] = 1\n",
    "        adj_matrix[col - 1][row - 1] = 1\n",
    "    return adj_matrix\n",
    "\n",
    "\n",
    "graph_adj_mat = get_adj_mat()\n",
    "\n",
    "\n",
    "def get_prob_mat(graph=data_graph):\n",
    "    prob_mat = numpy.zeros((len(graph.nodes), len(graph.nodes)))\n",
    "    for i in range(len(graph.nodes)):\n",
    "        for j in range(len(graph.nodes)):\n",
    "            if graph_adj_mat[i][j] == 1:\n",
    "                prob_mat[i][j] = 1 / graph.degree[i]\n",
    "    return prob_mat\n",
    "\n",
    "\n",
    "graph_prob_mat = get_prob_mat()\n",
    "\n",
    "\n",
    "def get_mat_to_power_t(mat=graph_prob_mat, n=t):\n",
    "    t_times = mat\n",
    "    for i in range(1, n):\n",
    "        t_times = numpy.matmul(t_times, mat)\n",
    "    return t_times\n",
    "\n",
    "\n",
    "prob_mat = get_mat_to_power_t()\n",
    "\n",
    "\n",
    "def get_d_mat(graph=data_graph):\n",
    "    d_mat = numpy.zeros((len(graph.nodes), len(graph.nodes)), dtype=int)\n",
    "    for i in range(len(graph.nodes)):\n",
    "        d_mat[i][i] = data_graph.degree[i]\n",
    "    return d_mat\n",
    "\n",
    "\n",
    "def get_c_to_k_prob(c, k, adj_mat=graph_adj_mat, graph=data_graph):\n",
    "    val = 0\n",
    "    for i in range(1, graph.degree[c]):\n",
    "        if adj_mat[c][i] != 0:\n",
    "            val += (1 / (graph.degree[k] * graph.degree[i]))\n",
    "    return val / graph.degree[c]\n",
    "\n",
    "\n",
    "def get_difference_of_taste(i, j, n=len(data_graph.nodes), graph=data_graph):\n",
    "    val = 0\n",
    "    for k in range(1, n):\n",
    "        temp = get_c_to_k_prob(i, k) - get_c_to_k_prob(j, k)\n",
    "        temp *= temp\n",
    "        temp /= graph.degree[k]\n",
    "        val += temp\n",
    "    return math.sqrt(val)\n",
    "\n",
    "\n",
    "def get_closest_tastes(graph=data_graph, mat=prob_mat, n=len(data_graph.nodes)):\n",
    "    all_list = [[]]\n",
    "    for i in graph.nodes:\n",
    "        for j in graph.nodes:\n",
    "            if i != j:\n",
    "                all_list.append({get_difference_of_taste(i, j), i, j})\n",
    "    return all_list\n",
    "\n",
    "\n",
    "taste_list = get_closest_tastes()\n",
    "\n",
    "\n",
    "def check_and_merge(graph=data_graph, mat=taste_list, n=len(data_graph.nodes)):\n",
    "    if len(mat) == 0:\n",
    "        return\n",
    "    d1 = mat[numpy.argmin(mat)]\n",
    "    check_and_merge(mat=mat)\n",
    "\n",
    "\n",
    "check_and_merge()\n"
   ],
   "metadata": {
    "collapsed": false
   }
  }
 ],
 "metadata": {
  "kernelspec": {
   "display_name": "Python 3",
   "language": "python",
   "name": "python3"
  },
  "language_info": {
   "codemirror_mode": {
    "name": "ipython",
    "version": 2
   },
   "file_extension": ".py",
   "mimetype": "text/x-python",
   "name": "python",
   "nbconvert_exporter": "python",
   "pygments_lexer": "ipython2",
   "version": "2.7.6"
  }
 },
 "nbformat": 4,
 "nbformat_minor": 0
}
