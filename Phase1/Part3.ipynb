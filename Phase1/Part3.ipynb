{
 "cells": [
  {
   "cell_type": "code",
   "execution_count": null,
   "metadata": {
    "collapsed": false
   },
   "outputs": [],
   "source": [
    "import numpy as np\n",
    "import pandas as pd\n",
    "import itertools"
   ]
  },
  {
   "cell_type": "code",
   "execution_count": null,
   "outputs": [],
   "source": [],
   "metadata": {
    "collapsed": false
   }
  },
  {
   "cell_type": "code",
   "execution_count": null,
   "metadata": {
    "collapsed": true
   },
   "outputs": [],
   "source": [
    "a = [1, 1, 1, 2, 3, 3, 2, 3, 2]\n",
    "b = [1, 1, 3, 2, 3, 1, 2, 3, 2]\n",
    "x = len(a)\n",
    "x"
   ]
  },
  {
   "cell_type": "code",
   "execution_count": null,
   "metadata": {
    "collapsed": false
   },
   "outputs": [],
   "source": [
    "def hamming(z1, z2):\n",
    "    ans = 0\n",
    "    n = len(z1)\n",
    "    for i in range(0, n):\n",
    "        if z1[i] != z2[i]:\n",
    "            ans += 1\n",
    "    return ans\n",
    "\n",
    "\n",
    "hamming(a, b)"
   ]
  },
  {
   "cell_type": "code",
   "execution_count": null,
   "metadata": {
    "collapsed": false
   },
   "outputs": [],
   "source": [
    "def min_hamming(z1, z2):\n",
    "    z1_values = list(pd.Series(z1).value_counts().index)\n",
    "    permutations = list(itertools.permutations(z1_values))\n",
    "    min = 1000000000\n",
    "    for i in range(0, len(permutations)):\n",
    "        tmp = [0] * len(z2)\n",
    "        for j in range(0, len(z2)):\n",
    "            tmp[j] = permutations[i][z2[j] - 1]\n",
    "        print(tmp)\n",
    "        if min > hamming(tmp, z1):\n",
    "            min = hamming(tmp, z1)\n",
    "    return min\n",
    "\n",
    "\n",
    "min_hamming(a, b)"
   ]
  },
  {
   "cell_type": "code",
   "execution_count": null,
   "outputs": [],
   "source": [
    "# import"
   ],
   "metadata": {
    "collapsed": false
   }
  }
 ],
 "metadata": {
  "kernelspec": {
   "display_name": "Python 3",
   "language": "python",
   "name": "python3"
  },
  "language_info": {
   "codemirror_mode": {
    "name": "ipython",
    "version": 3
   },
   "file_extension": ".py",
   "mimetype": "text/x-python",
   "name": "python",
   "nbconvert_exporter": "python",
   "pygments_lexer": "ipython3",
   "version": "3.10.9 (tags/v3.10.9:1dd9be6, Dec  6 2022, 20:01:21) [MSC v.1934 64 bit (AMD64)]"
  },
  "vscode": {
   "interpreter": {
    "hash": "66f804da07f0f556d77bc3269dc5bb19edf020422864031af2885e5ff55f9079"
   }
  }
 },
 "nbformat": 4,
 "nbformat_minor": 0
}
