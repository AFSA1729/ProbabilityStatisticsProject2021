{
 "cells": [
  {
   "cell_type": "code",
   "execution_count": 1,
   "metadata": {
    "collapsed": true
   },
   "outputs": [],
   "source": [
    "import math\n",
    "import numpy as np\n",
    "import pandas as pd\n",
    "from scipy.stats import bernoulli\n",
    "import itertools\n",
    "import networkx as nx\n",
    "import matplotlib.pyplot as plt\n",
    "import random"
   ]
  },
  {
   "cell_type": "code",
   "execution_count": 3,
   "outputs": [
    {
     "name": "stdout",
     "output_type": "stream",
     "text": [
      "Expected Value: [1690.2]\n",
      "m error: [-0.77493788]\n"
     ]
    }
   ],
   "source": [
    "# simulation problem 17\n",
    "n = 1000\n",
    "p = 0.0034\n",
    "m = 3000\n",
    "\n",
    "\n",
    "def edge_counter(n, p):\n",
    "    ans = 0\n",
    "    A = [[0] * n for i in range(n)]\n",
    "    for i in range(0, n):\n",
    "        A[i][i] = 1\n",
    "        for j in range(0, i):\n",
    "            A[i][j] = bernoulli.rvs(p, size=1)\n",
    "            # A[i][j] = np.random.binomial(1, p, size=1)[0]\n",
    "            A[j][i] = A[i][j]\n",
    "            ans += A[i][j]\n",
    "    return ans\n",
    "\n",
    "\n",
    "expected = 0\n",
    "for i in range(0, 10):\n",
    "    expected += (edge_counter(n, p) / 10)\n",
    "\n",
    "print(\"Expected Value:\", expected)\n",
    "\n",
    "error = (expected - m) / expected\n",
    "print(\"m error:\", error)"
   ],
   "metadata": {
    "collapsed": false
   }
  },
  {
   "cell_type": "code",
   "execution_count": 6,
   "outputs": [
    {
     "name": "stdout",
     "output_type": "stream",
     "text": [
      "152.0\n"
     ]
    },
    {
     "data": {
      "text/plain": "<Figure size 640x480 with 1 Axes>",
      "image/png": "[encoded data removed]"
     },
     "metadata": {},
     "output_type": "display_data"
    }
   ],
   "source": [
    "# simulation problem 18\n",
    "n = 1000\n",
    "p = 0.00016\n",
    "mean_cnt = 0\n",
    "total_arr = np.array([0])\n",
    "\n",
    "for t in range(10):\n",
    "    m = 0\n",
    "    arr = np.array([0] * n)\n",
    "    for i in range(n):\n",
    "        for j in range(i + 1, n):\n",
    "            x = sum(random.choices([True, False], [p, 1 - p], k=1))\n",
    "            arr[i] = arr[i] + x\n",
    "            arr[j] += x\n",
    "            m += x\n",
    "\n",
    "    l = 2 * m / n\n",
    "    for r in range(n):\n",
    "        if (arr[r] > l):\n",
    "            mean_cnt += 1\n",
    "    total_arr = np.concatenate((arr, total_arr))\n",
    "print(mean_cnt / 10)\n",
    "\n",
    "max_val = total_arr[0]\n",
    "for i in range(10 * n + 1):\n",
    "    if (total_arr[i] > max_val):\n",
    "        max_val = total_arr[i]\n",
    "\n",
    "x_arr = np.arange(max_val + 1)\n",
    "\n",
    "y_arr = [0] * (max_val + 1)\n",
    "for i in total_arr:\n",
    "    y_arr[i] += 1\n",
    "\n",
    "y_arr[0] -= 1\n",
    "y_arr = np.multiply(y_arr, 1 / 10)\n",
    "\n",
    "plt.bar(x_arr, y_arr, color='maroon', width=0.4)\n",
    "plt.xticks(x_arr, x_arr)\n",
    "plt.title('frequency of each group')\n",
    "plt.xlabel('values')\n",
    "plt.ylabel('frequency')\n",
    "plt.show()"
   ],
   "metadata": {
    "collapsed": false
   }
  },
  {
   "cell_type": "code",
   "execution_count": 76,
   "outputs": [
    {
     "data": {
      "text/plain": "2.86"
     },
     "execution_count": 76,
     "metadata": {},
     "output_type": "execute_result"
    }
   ],
   "source": [
    "# simulation problem 22\n",
    "n = 50\n",
    "p = 0.34\n",
    "def diam_calc(n, p):\n",
    "    G = nx.Graph()\n",
    "    G.add_nodes_from([i for i in range(0,n)])\n",
    "    ans = 0\n",
    "    for i in range(0, n):\n",
    "        for j in range(0, i):\n",
    "            if np.random.binomial(1, p, size=1)[0] == 1:\n",
    "                G.add_edge(i,j)\n",
    "    return nx.diameter(G)\n",
    "\n",
    "diams = [0]*100\n",
    "for i in range(0,100):\n",
    "    diams[i] = diam_calc(n,p)\n",
    "\n",
    "np.array(diams).mean()\n"
   ],
   "metadata": {
    "collapsed": false
   }
  }
 ],
 "metadata": {
  "kernelspec": {
   "display_name": "Python 3",
   "language": "python",
   "name": "python3"
  },
  "language_info": {
   "codemirror_mode": {
    "name": "ipython",
    "version": 2
   },
   "file_extension": ".py",
   "mimetype": "text/x-python",
   "name": "python",
   "nbconvert_exporter": "python",
   "pygments_lexer": "ipython2",
   "version": "2.7.6"
  }
 },
 "nbformat": 4,
 "nbformat_minor": 0
}
