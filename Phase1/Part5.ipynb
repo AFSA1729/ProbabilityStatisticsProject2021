{
 "cells": [
  {
   "cell_type": "code",
   "execution_count": 4,
   "metadata": {
    "collapsed": true
   },
   "outputs": [],
   "source": [
    "import math\n",
    "import numpy as np\n",
    "import pandas as pd\n",
    "from scipy.stats import bernoulli\n",
    "import itertools\n",
    "import networkx as nx\n",
    "import matplotlib.pyplot as plt\n",
    "import random"
   ]
  },
  {
   "cell_type": "code",
   "execution_count": 3,
   "outputs": [
    {
     "name": "stdout",
     "output_type": "stream",
     "text": [
      "Expected Value: [1690.2]\n",
      "m error: [-0.77493788]\n"
     ]
    }
   ],
   "source": [
    "# simulation problem 17\n",
    "n = 1000\n",
    "p = 0.0034\n",
    "m = 3000\n",
    "\n",
    "\n",
    "def edge_counter(n, p):\n",
    "    ans = 0\n",
    "    A = [[0] * n for i in range(n)]\n",
    "    for i in range(0, n):\n",
    "        A[i][i] = 1\n",
    "        for j in range(0, i):\n",
    "            A[i][j] = bernoulli.rvs(p, size=1)\n",
    "            # A[i][j] = np.random.binomial(1, p, size=1)[0]\n",
    "            A[j][i] = A[i][j]\n",
    "            ans += A[i][j]\n",
    "    return ans\n",
    "\n",
    "\n",
    "expected = 0\n",
    "for i in range(0, 10):\n",
    "    expected += (edge_counter(n, p) / 10)\n",
    "\n",
    "print(\"Expected Value:\", expected)\n",
    "\n",
    "error = (expected - m) / expected\n",
    "print(\"m error:\", error)"
   ],
   "metadata": {
    "collapsed": false
   }
  },
  {
   "cell_type": "code",
   "execution_count": 6,
   "outputs": [
    {
     "name": "stdout",
     "output_type": "stream",
     "text": [
      "152.0\n"
     ]
    },
    {
     "data": {
      "text/plain": "<Figure size 640x480 with 1 Axes>",
      "image/png": "[encoded data removed]"
     },
     "metadata": {},
     "output_type": "display_data"
    }
   ],
   "source": [
    "# simulation problem 18\n",
    "n = 1000\n",
    "p = 0.00016\n",
    "mean_cnt = 0\n",
    "total_arr = np.array([0])\n",
    "\n",
    "for t in range(10):\n",
    "    m = 0\n",
    "    arr = np.array([0] * n)\n",
    "    for i in range(n):\n",
    "        for j in range(i + 1, n):\n",
    "            x = sum(random.choices([True, False], [p, 1 - p], k=1))\n",
    "            arr[i] = arr[i] + x\n",
    "            arr[j] += x\n",
    "            m += x\n",
    "\n",
    "    l = 2 * m / n\n",
    "    for r in range(n):\n",
    "        if (arr[r] > l):\n",
    "            mean_cnt += 1\n",
    "    total_arr = np.concatenate((arr, total_arr))\n",
    "print(mean_cnt / 10)\n",
    "\n",
    "max_val = total_arr[0]\n",
    "for i in range(10 * n + 1):\n",
    "    if (total_arr[i] > max_val):\n",
    "        max_val = total_arr[i]\n",
    "\n",
    "x_arr = np.arange(max_val + 1)\n",
    "\n",
    "y_arr = [0] * (max_val + 1)\n",
    "for i in total_arr:\n",
    "    y_arr[i] += 1\n",
    "\n",
    "y_arr[0] -= 1\n",
    "y_arr = np.multiply(y_arr, 1 / 10)\n",
    "\n",
    "plt.bar(x_arr, y_arr, color='maroon', width=0.4)\n",
    "plt.xticks(x_arr, x_arr)\n",
    "plt.title('frequency of each group')\n",
    "plt.xlabel('values')\n",
    "plt.ylabel('frequency')\n",
    "plt.show()"
   ],
   "metadata": {
    "collapsed": false
   }
  },
  {
   "cell_type": "code",
   "execution_count": 194,
   "outputs": [
    {
     "name": "stdout",
     "output_type": "stream",
     "text": [
      "mean of triangle is  4495.6\n",
      "mean of chain is  1387012.2\n"
     ]
    }
   ],
   "source": [
    "# simulation problem 19\n",
    "N = 3000\n",
    "matrix = np.array([0] * 9000000).reshape(3000, 3000)\n",
    "p = 0.01\n",
    "triangle_mean = 0\n",
    "chain_mean = 0\n",
    "\n",
    "for i in range(5):\n",
    "    triangle = 0\n",
    "    chain = 0\n",
    "    for j in range(N):\n",
    "        for t in range(j + 1, N):\n",
    "            x = sum(random.choices([True, False], [p, 1 - p], k=1))\n",
    "            matrix[j][t] = x\n",
    "            matrix[t][j] = x\n",
    "    for i in range(N):\n",
    "        adjacent_nodes = []\n",
    "        # khiar = 0\n",
    "        for j in range(N):\n",
    "            if matrix[i][j] == 1:\n",
    "                adjacent_nodes.append(j)\n",
    "        for j in adjacent_nodes:\n",
    "            for k in adjacent_nodes:\n",
    "                if matrix[j][k] == 1:\n",
    "                    triangle += 1\n",
    "                else:\n",
    "                    chain += 1\n",
    "    triangle /= 6\n",
    "    chain /= 2\n",
    "    triangle_mean += triangle\n",
    "    chain_mean += chain\n",
    "\n",
    "triangle_mean /= 5\n",
    "chain_mean /= 5\n",
    "print(\"mean of triangle is \", triangle_mean)\n",
    "print(\"mean of chain is \", chain_mean)"
   ],
   "metadata": {
    "collapsed": false
   }
  },
  {
   "cell_type": "code",
   "execution_count": 195,
   "outputs": [
    {
     "name": "stdout",
     "output_type": "stream",
     "text": [
      "0.015\n",
      "0.006\n",
      "0.012\n",
      "0.012\n",
      "0.009\n",
      "0.018\n",
      "0.012\n",
      "0.009\n",
      "0.012\n",
      "0.003\n",
      "0.009\n",
      "0.018\n",
      "0.021\n",
      "0.015\n",
      "0.012\n",
      "0.027\n",
      "0.009\n",
      "0.018\n",
      "0.018\n",
      "0.018\n",
      "0.018\n",
      "0.009\n",
      "0.012\n",
      "0.012\n",
      "0.021\n",
      "0.012\n",
      "0.018\n",
      "0.015\n",
      "0.012\n",
      "0.006\n",
      "0.015\n",
      "0.018\n",
      "0.009\n",
      "0.003\n",
      "0.009\n",
      "0.015\n",
      "0.012\n",
      "0.018\n",
      "0.009\n",
      "0.015\n",
      "0.006\n",
      "0.006\n",
      "0.006\n",
      "0.003\n",
      "0.021\n",
      "0.018\n",
      "0.003\n",
      "0.024\n",
      "0.024\n",
      "0.024\n",
      "0.018\n",
      "0.027\n",
      "0.012\n",
      "0.012\n",
      "0.015\n",
      "0.006\n",
      "0.006\n",
      "0.015\n",
      "0.024\n",
      "0.006\n",
      "0.021\n",
      "0.006\n",
      "0.018\n",
      "0.03\n",
      "0.006\n",
      "0.006\n",
      "0.012\n",
      "0.018\n",
      "0.012\n",
      "0.015\n",
      "0.006\n",
      "0.006\n",
      "0.018\n",
      "0.018\n",
      "0.012\n",
      "0.003\n",
      "0.018\n",
      "0.021\n",
      "0.018\n",
      "0.015\n",
      "0.015\n",
      "0.018\n",
      "0.021\n",
      "0.012\n",
      "0.027\n",
      "0.018\n",
      "0.009\n",
      "0.003\n",
      "0.009\n",
      "0.006\n",
      "0.009\n",
      "0.015\n",
      "0.012\n",
      "0.012\n",
      "0.018\n",
      "0.006\n",
      "0.012\n",
      "0.009\n",
      "0.009\n",
      "0.006\n",
      "0.13319999999999993\n"
     ]
    }
   ],
   "source": [
    "# simulation problem 20\n",
    "N = 1000\n",
    "matrix = np.array([0] * 1000000).reshape(1000, 1000)\n",
    "p = 0.003\n",
    "\n",
    "mean_of_mean = 0\n",
    "for z in range(100):\n",
    "    for i in range(N):\n",
    "        for j in range(i + 1, N):\n",
    "            x = sum(random.choices([True, False], [p, 1 - p], k=1))\n",
    "            matrix[i][j] = x\n",
    "            matrix[j][i] = x\n",
    "\n",
    "    mean = 0\n",
    "    for i in range(N):\n",
    "        adjacent_nodes = []\n",
    "        #khiar = 0\n",
    "        for j in range(N):\n",
    "            if matrix[i][j] == 1:\n",
    "                adjacent_nodes.append(j)\n",
    "        for j in adjacent_nodes:\n",
    "            for k in adjacent_nodes:\n",
    "                if matrix[j][k] == 1:\n",
    "                    mean += 1\n",
    "    mean /= 2 * N\n",
    "    print(mean)\n",
    "    mean_of_mean += mean\n",
    "print(mean_of_mean / 10)"
   ],
   "metadata": {
    "collapsed": false
   }
  },
  {
   "cell_type": "code",
   "execution_count": 3,
   "outputs": [
    {
     "name": "stdout",
     "output_type": "stream",
     "text": [
      "136.94136136136137\n"
     ]
    }
   ],
   "source": [
    "# simulation problem 21\n",
    "def distances_from(n, matrix, i):\n",
    "    visited = [False] * n\n",
    "    dist = [n] * n\n",
    "    list = []\n",
    "    list.append(i)\n",
    "    visited[i] = True\n",
    "    dist[i] = 0\n",
    "\n",
    "    while len(list) != 0:\n",
    "        x = list.pop(0)\n",
    "        for j in range(N):\n",
    "            if matrix[x][j] == 1 and visited[j] == False:\n",
    "                list.append(j)\n",
    "                dist[j] = dist[x] + 1\n",
    "                visited[j] = True\n",
    "    return sum(dist)\n",
    "\n",
    "\n",
    "\n",
    "N = 1000\n",
    "matrix = np.array([0] * 1000000).reshape(1000, 1000)\n",
    "p = 0.003\n",
    "\n",
    "for i in range(N):\n",
    "    for j in range(i + 1, N):\n",
    "        x = sum(random.choices([True, False], [p, 1 - p], k=1))\n",
    "        matrix[i][j] = x\n",
    "        matrix[j][i] = x\n",
    "mean = 0\n",
    "for i in range(N):\n",
    "    mean += distances_from(N, matrix, i)\n",
    "print(mean / (N * (N - 1)))"
   ],
   "metadata": {
    "collapsed": false
   }
  },
  {
   "cell_type": "code",
   "execution_count": 169,
   "outputs": [
    {
     "name": "stdout",
     "output_type": "stream",
     "text": [
      "[3, 3, 2, 3, 3, 3, 3, 3, 3, 2, 3, 3, 3, 3, 3, 3, 2, 3, 2, 3, 2, 3, 3, 3, 3, 3, 3, 2, 3, 3, 3, 3, 2, 3, 3, 2, 3, 3, 3, 3, 3, 3, 3, 2, 3, 3, 2, 3, 3, 3, 3, 2, 2, 3, 3, 3, 2, 3, 3, 3, 2, 3, 3, 3, 2, 3, 2, 3, 3, 3, 3, 3, 3, 3, 3, 3, 3, 3, 3, 3, 3, 3, 3, 2, 3, 3, 3, 3, 3, 3, 3, 3, 3, 2, 2, 3, 3, 3, 3, 3]\n"
     ]
    },
    {
     "data": {
      "text/plain": "2.81"
     },
     "execution_count": 169,
     "metadata": {},
     "output_type": "execute_result"
    }
   ],
   "source": [
    "# simulation problem 22\n",
    "n = 50\n",
    "p = 0.34\n",
    "\n",
    "\n",
    "def diam_calc(n, p):\n",
    "    G = nx.Graph()\n",
    "    G.add_nodes_from([i for i in range(0, n)])\n",
    "    for i in range(0, n):\n",
    "        for j in range(0, i):\n",
    "            if np.random.binomial(1, p, size=1)[0] == 1:\n",
    "                G.add_edge(i, j)\n",
    "    return nx.diameter(G)\n",
    "\n",
    "\n",
    "diams = [0] * 100\n",
    "for i in range(0, 100):\n",
    "    diams[i] = diam_calc(n, p)\n",
    "\n",
    "print(diams)\n",
    "np.array(diams).mean()"
   ],
   "metadata": {
    "collapsed": false
   }
  },
  {
   "cell_type": "code",
   "execution_count": 187,
   "outputs": [],
   "source": [
    "# simulation problem 23\n",
    "T = 100\n",
    "\n",
    "\n",
    "def diam_mean_calc(T, n, p):\n",
    "    diams = [0] * T\n",
    "    for i in range(0, T):\n",
    "        diams[i] = diam_calc(n, p)\n",
    "    return np.array(diams).mean()\n",
    "\n",
    "\n",
    "n_vals = [0] * 20\n",
    "mean_diam_vals = [0] * 20\n",
    "for i in range(0, 20):\n",
    "    j = 10 * (i + 1)\n",
    "    if i > 1:\n",
    "        n_vals[i] = j\n",
    "        mean_diam_vals[i] = diam_mean_calc(T, j, p)\n",
    "    else:\n",
    "        n_vals[i] = 0\n",
    "        mean_diam_vals[i] = 0"
   ],
   "metadata": {
    "collapsed": false
   }
  },
  {
   "cell_type": "code",
   "execution_count": 193,
   "outputs": [
    {
     "data": {
      "text/plain": "<Figure size 640x480 with 1 Axes>",
      "image/png": "[encoded data removed]"
     },
     "metadata": {},
     "output_type": "display_data"
    }
   ],
   "source": [
    "fig, ax = plt.subplots()\n",
    "n_vals = n_vals[2:19]\n",
    "mean_diam_vals = mean_diam_vals[2:19]\n",
    "ax.plot(n_vals, mean_diam_vals)\n",
    "ax.set_xlabel(\"n\")\n",
    "ax.set_ylabel(\"Diameter mean\");"
   ],
   "metadata": {
    "collapsed": false
   }
  },
  {
   "cell_type": "code",
   "execution_count": 16,
   "outputs": [
    {
     "name": "stdout",
     "output_type": "stream",
     "text": [
      "[201, 234, 189, 174, 172, 184, 158, 125, 104, 181, 149, 157, 129, 245, 128, 213, 163, 252, 162, 289, 166, 224, 192, 252, 101, 147, 261, 270, 249, 243, 249, 212, 225, 197, 158, 233, 239, 207, 230, 154, 200, 110, 106, 232, 89, 250, 197, 147, 195, 123, 225, 110, 191, 250, 185, 144, 115, 178, 153, 184, 184, 132, 215, 199, 105, 226, 198, 178, 220, 165, 169, 147, 153, 159, 262, 291, 168, 237, 229, 190, 157, 139, 217, 134, 183, 110, 238, 165, 227, 135, 169, 164, 325, 161, 207, 197, 169, 235, 157, 99]\n"
     ]
    },
    {
     "data": {
      "text/plain": "186.17"
     },
     "execution_count": 16,
     "metadata": {},
     "output_type": "execute_result"
    }
   ],
   "source": [
    "# simulation problem 24\n",
    "n = 100\n",
    "p = 0.34\n",
    "\n",
    "def triangle_calc(n, p):\n",
    "    G = nx.Graph()\n",
    "    G.add_nodes_from([i for i in range(0, n)])\n",
    "    for i in range(0, n):\n",
    "        for j in range(0, i):\n",
    "            if np.random.binomial(1, p, size=1)[0] == 1:\n",
    "                G.add_edge(i, j)\n",
    "    return nx.triangles(G,0)\n",
    "\n",
    "\n",
    "triangles = [0] * 100\n",
    "for i in range(0, 100):\n",
    "    triangles[i] = triangle_calc(n, p)\n",
    "\n",
    "print(triangles)\n",
    "np.array(triangles).mean()"
   ],
   "metadata": {
    "collapsed": false
   }
  },
  {
   "cell_type": "code",
   "execution_count": 18,
   "outputs": [],
   "source": [
    "# simulation problem 25\n",
    "T = 100\n",
    "\n",
    "def triangle_mean_calc(T, n, p):\n",
    "    triangles = [0] * T\n",
    "    for i in range(0, T):\n",
    "        triangles[i] = triangle_calc(n, p)\n",
    "    return np.array(triangles).mean()\n",
    "\n",
    "n_vals = [0] * 10\n",
    "mean_triangle_vals = [0] * 10\n",
    "for i in range(0, 10):\n",
    "    j = 10 * (i + 1)\n",
    "    if i > 1:\n",
    "        n_vals[i] = j\n",
    "        mean_triangle_vals[i] = triangle_mean_calc(T, j, (60/(math.pow(j,2))))\n",
    "    else:\n",
    "        n_vals[i] = 0\n",
    "        mean_triangle_vals[i] = 0"
   ],
   "metadata": {
    "collapsed": false
   }
  },
  {
   "cell_type": "code",
   "execution_count": 19,
   "outputs": [
    {
     "data": {
      "text/plain": "<Figure size 640x480 with 1 Axes>",
      "image/png": "[encoded data removed]"
     },
     "metadata": {},
     "output_type": "display_data"
    }
   ],
   "source": [
    "fig, ax1 = plt.subplots()\n",
    "n_vals = n_vals[2:9]\n",
    "mean_triangle_vals = mean_triangle_vals[2:9]\n",
    "ax1.plot(n_vals, mean_triangle_vals)\n",
    "ax1.set_xlabel(\"n\")\n",
    "ax1.set_ylabel(\"Triangle mean\");"
   ],
   "metadata": {
    "collapsed": false
   }
  },
  {
   "cell_type": "code",
   "execution_count": 20,
   "outputs": [],
   "source": [
    "# simulation problem 26\n",
    "T = 100\n",
    "\n",
    "def triangle_mean_calc(T, n, p):\n",
    "    triangles = [0] * T\n",
    "    for i in range(0, T):\n",
    "        triangles[i] = triangle_calc(n, p)\n",
    "    return np.array(triangles).mean()\n",
    "\n",
    "n_vals = [0] * 10\n",
    "mean_triangle_vals = [0] * 10\n",
    "for i in range(0, 10):\n",
    "    j = 10 * (i + 1)\n",
    "    if i > 1:\n",
    "        n_vals[i] = j\n",
    "        mean_triangle_vals[i] = triangle_mean_calc(T, j, p)\n",
    "    else:\n",
    "        n_vals[i] = 0\n",
    "        mean_triangle_vals[i] = 0"
   ],
   "metadata": {
    "collapsed": false
   }
  },
  {
   "cell_type": "code",
   "execution_count": 21,
   "outputs": [
    {
     "data": {
      "text/plain": "<Figure size 640x480 with 1 Axes>",
      "image/png": "[encoded data removed]"
     },
     "metadata": {},
     "output_type": "display_data"
    }
   ],
   "source": [
    "fig, ax1 = plt.subplots()\n",
    "n_vals = n_vals[2:9]\n",
    "mean_triangle_vals = mean_triangle_vals[2:9]\n",
    "ax1.plot(n_vals, mean_triangle_vals)\n",
    "ax1.set_xlabel(\"n\")\n",
    "ax1.set_ylabel(\"Triangle mean\");"
   ],
   "metadata": {
    "collapsed": false
   }
  },
  {
   "cell_type": "code",
   "execution_count": null,
   "outputs": [],
   "source": [
    "# simulation problem 27\n",
    "T = 100\n",
    "\n",
    "def triangle_mean_calc(T, n, p):\n",
    "    triangles = [0] * T\n",
    "    for i in range(0, T):\n",
    "        triangles[i] = triangle_calc(n, p)\n",
    "    return np.array(triangles).mean()\n",
    "\n",
    "n_vals = [0] * 10\n",
    "mean_triangle_vals = [0] * 10\n",
    "for i in range(0, 10):\n",
    "    j = 10 * (i + 1)\n",
    "    if i > 1:\n",
    "        n_vals[i] = j\n",
    "        mean_triangle_vals[i] = triangle_mean_calc(T, j, p)\n",
    "    else:\n",
    "        n_vals[i] = 0\n",
    "        mean_triangle_vals[i] = 0"
   ],
   "metadata": {
    "collapsed": false
   }
  },
  {
   "cell_type": "code",
   "execution_count": null,
   "outputs": [],
   "source": [
    "fig, ax1 = plt.subplots()\n",
    "n_vals = n_vals[2:9]\n",
    "mean_triangle_vals = mean_triangle_vals[2:9]\n",
    "ax1.plot(n_vals, mean_triangle_vals)\n",
    "ax1.set_xlabel(\"n\")\n",
    "ax1.set_ylabel(\"Triangle mean\");"
   ],
   "metadata": {
    "collapsed": false
   }
  }
 ],
 "metadata": {
  "kernelspec": {
   "display_name": "Python 3",
   "language": "python",
   "name": "python3"
  },
  "language_info": {
   "codemirror_mode": {
    "name": "ipython",
    "version": 2
   },
   "file_extension": ".py",
   "mimetype": "text/x-python",
   "name": "python",
   "nbconvert_exporter": "python",
   "pygments_lexer": "ipython2",
   "version": "2.7.6"
  }
 },
 "nbformat": 4,
 "nbformat_minor": 0
}
